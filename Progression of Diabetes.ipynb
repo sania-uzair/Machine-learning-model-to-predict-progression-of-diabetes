{
 "cells": [
  {
   "cell_type": "code",
   "execution_count": 1,
   "metadata": {},
   "outputs": [],
   "source": [
    "import numpy as np\n",
    "import pandas as pd\n",
    "import matplotlib.pyplot as plt\n",
    "from sklearn.model_selection import train_test_split"
   ]
  },
  {
   "cell_type": "code",
   "execution_count": 2,
   "metadata": {},
   "outputs": [],
   "source": [
    "dataset = pd.read_csv('data1.csv')"
   ]
  },
  {
   "cell_type": "code",
   "execution_count": 3,
   "metadata": {},
   "outputs": [
    {
     "data": {
      "text/plain": [
       "(33, 11)"
      ]
     },
     "execution_count": 3,
     "metadata": {},
     "output_type": "execute_result"
    }
   ],
   "source": [
    "dataset.shape"
   ]
  },
  {
   "cell_type": "code",
   "execution_count": 4,
   "metadata": {},
   "outputs": [
    {
     "data": {
      "text/html": [
       "<div>\n",
       "<style scoped>\n",
       "    .dataframe tbody tr th:only-of-type {\n",
       "        vertical-align: middle;\n",
       "    }\n",
       "\n",
       "    .dataframe tbody tr th {\n",
       "        vertical-align: top;\n",
       "    }\n",
       "\n",
       "    .dataframe thead th {\n",
       "        text-align: right;\n",
       "    }\n",
       "</style>\n",
       "<table border=\"1\" class=\"dataframe\">\n",
       "  <thead>\n",
       "    <tr style=\"text-align: right;\">\n",
       "      <th></th>\n",
       "      <th>Gender</th>\n",
       "      <th>Age</th>\n",
       "      <th>Medication</th>\n",
       "      <th>Activity_Level</th>\n",
       "      <th>Carbs</th>\n",
       "      <th>Fasting(day#1)</th>\n",
       "      <th>Fasting(day#2)</th>\n",
       "      <th>Fasting(day#3)</th>\n",
       "      <th>Fasting(day#4)</th>\n",
       "      <th>Fasting(day#5)</th>\n",
       "      <th>Outcome</th>\n",
       "    </tr>\n",
       "  </thead>\n",
       "  <tbody>\n",
       "    <tr>\n",
       "      <th>0</th>\n",
       "      <td>0</td>\n",
       "      <td>45</td>\n",
       "      <td>0</td>\n",
       "      <td>0</td>\n",
       "      <td>0</td>\n",
       "      <td>80</td>\n",
       "      <td>82</td>\n",
       "      <td>81</td>\n",
       "      <td>84</td>\n",
       "      <td>83</td>\n",
       "      <td>Increase</td>\n",
       "    </tr>\n",
       "    <tr>\n",
       "      <th>1</th>\n",
       "      <td>1</td>\n",
       "      <td>54</td>\n",
       "      <td>0</td>\n",
       "      <td>0</td>\n",
       "      <td>0</td>\n",
       "      <td>110</td>\n",
       "      <td>113</td>\n",
       "      <td>114</td>\n",
       "      <td>112</td>\n",
       "      <td>115</td>\n",
       "      <td>Increase</td>\n",
       "    </tr>\n",
       "    <tr>\n",
       "      <th>2</th>\n",
       "      <td>0</td>\n",
       "      <td>62</td>\n",
       "      <td>0</td>\n",
       "      <td>0</td>\n",
       "      <td>0</td>\n",
       "      <td>156</td>\n",
       "      <td>159</td>\n",
       "      <td>154</td>\n",
       "      <td>155</td>\n",
       "      <td>155</td>\n",
       "      <td>Increase</td>\n",
       "    </tr>\n",
       "    <tr>\n",
       "      <th>3</th>\n",
       "      <td>1</td>\n",
       "      <td>78</td>\n",
       "      <td>0</td>\n",
       "      <td>0</td>\n",
       "      <td>0</td>\n",
       "      <td>198</td>\n",
       "      <td>199</td>\n",
       "      <td>201</td>\n",
       "      <td>201</td>\n",
       "      <td>200</td>\n",
       "      <td>Increase</td>\n",
       "    </tr>\n",
       "    <tr>\n",
       "      <th>4</th>\n",
       "      <td>0</td>\n",
       "      <td>57</td>\n",
       "      <td>0</td>\n",
       "      <td>0</td>\n",
       "      <td>1</td>\n",
       "      <td>139</td>\n",
       "      <td>142</td>\n",
       "      <td>145</td>\n",
       "      <td>150</td>\n",
       "      <td>152</td>\n",
       "      <td>Increase</td>\n",
       "    </tr>\n",
       "    <tr>\n",
       "      <th>5</th>\n",
       "      <td>1</td>\n",
       "      <td>75</td>\n",
       "      <td>0</td>\n",
       "      <td>0</td>\n",
       "      <td>1</td>\n",
       "      <td>80</td>\n",
       "      <td>83</td>\n",
       "      <td>89</td>\n",
       "      <td>90</td>\n",
       "      <td>97</td>\n",
       "      <td>Increase</td>\n",
       "    </tr>\n",
       "    <tr>\n",
       "      <th>6</th>\n",
       "      <td>0</td>\n",
       "      <td>81</td>\n",
       "      <td>0</td>\n",
       "      <td>0</td>\n",
       "      <td>1</td>\n",
       "      <td>180</td>\n",
       "      <td>184</td>\n",
       "      <td>187</td>\n",
       "      <td>183</td>\n",
       "      <td>192</td>\n",
       "      <td>Increase</td>\n",
       "    </tr>\n",
       "    <tr>\n",
       "      <th>7</th>\n",
       "      <td>1</td>\n",
       "      <td>75</td>\n",
       "      <td>0</td>\n",
       "      <td>0</td>\n",
       "      <td>1</td>\n",
       "      <td>200</td>\n",
       "      <td>200</td>\n",
       "      <td>205</td>\n",
       "      <td>204</td>\n",
       "      <td>204</td>\n",
       "      <td>Increase</td>\n",
       "    </tr>\n",
       "    <tr>\n",
       "      <th>8</th>\n",
       "      <td>0</td>\n",
       "      <td>92</td>\n",
       "      <td>0</td>\n",
       "      <td>1</td>\n",
       "      <td>0</td>\n",
       "      <td>149</td>\n",
       "      <td>142</td>\n",
       "      <td>147</td>\n",
       "      <td>150</td>\n",
       "      <td>155</td>\n",
       "      <td>Increase</td>\n",
       "    </tr>\n",
       "    <tr>\n",
       "      <th>9</th>\n",
       "      <td>1</td>\n",
       "      <td>40</td>\n",
       "      <td>0</td>\n",
       "      <td>1</td>\n",
       "      <td>0</td>\n",
       "      <td>70</td>\n",
       "      <td>77</td>\n",
       "      <td>84</td>\n",
       "      <td>91</td>\n",
       "      <td>95</td>\n",
       "      <td>Maintain</td>\n",
       "    </tr>\n",
       "    <tr>\n",
       "      <th>10</th>\n",
       "      <td>0</td>\n",
       "      <td>50</td>\n",
       "      <td>0</td>\n",
       "      <td>1</td>\n",
       "      <td>0</td>\n",
       "      <td>170</td>\n",
       "      <td>174</td>\n",
       "      <td>171</td>\n",
       "      <td>180</td>\n",
       "      <td>181</td>\n",
       "      <td>Increase</td>\n",
       "    </tr>\n",
       "    <tr>\n",
       "      <th>11</th>\n",
       "      <td>1</td>\n",
       "      <td>70</td>\n",
       "      <td>0</td>\n",
       "      <td>1</td>\n",
       "      <td>0</td>\n",
       "      <td>198</td>\n",
       "      <td>202</td>\n",
       "      <td>200</td>\n",
       "      <td>200</td>\n",
       "      <td>204</td>\n",
       "      <td>Increase</td>\n",
       "    </tr>\n",
       "    <tr>\n",
       "      <th>12</th>\n",
       "      <td>0</td>\n",
       "      <td>69</td>\n",
       "      <td>0</td>\n",
       "      <td>1</td>\n",
       "      <td>1</td>\n",
       "      <td>139</td>\n",
       "      <td>136</td>\n",
       "      <td>138</td>\n",
       "      <td>132</td>\n",
       "      <td>135</td>\n",
       "      <td>Increase</td>\n",
       "    </tr>\n",
       "    <tr>\n",
       "      <th>13</th>\n",
       "      <td>1</td>\n",
       "      <td>55</td>\n",
       "      <td>0</td>\n",
       "      <td>1</td>\n",
       "      <td>1</td>\n",
       "      <td>92</td>\n",
       "      <td>94</td>\n",
       "      <td>84</td>\n",
       "      <td>90</td>\n",
       "      <td>95</td>\n",
       "      <td>Increase</td>\n",
       "    </tr>\n",
       "  </tbody>\n",
       "</table>\n",
       "</div>"
      ],
      "text/plain": [
       "    Gender  Age  Medication  Activity_Level  Carbs  Fasting(day#1)  \\\n",
       "0        0   45           0               0      0              80   \n",
       "1        1   54           0               0      0             110   \n",
       "2        0   62           0               0      0             156   \n",
       "3        1   78           0               0      0             198   \n",
       "4        0   57           0               0      1             139   \n",
       "5        1   75           0               0      1              80   \n",
       "6        0   81           0               0      1             180   \n",
       "7        1   75           0               0      1             200   \n",
       "8        0   92           0               1      0             149   \n",
       "9        1   40           0               1      0              70   \n",
       "10       0   50           0               1      0             170   \n",
       "11       1   70           0               1      0             198   \n",
       "12       0   69           0               1      1             139   \n",
       "13       1   55           0               1      1              92   \n",
       "\n",
       "    Fasting(day#2)  Fasting(day#3)  Fasting(day#4)  Fasting(day#5)   Outcome  \n",
       "0               82              81              84              83  Increase  \n",
       "1              113             114             112             115  Increase  \n",
       "2              159             154             155             155  Increase  \n",
       "3              199             201             201             200  Increase  \n",
       "4              142             145             150             152  Increase  \n",
       "5               83              89              90              97  Increase  \n",
       "6              184             187             183             192  Increase  \n",
       "7              200             205             204             204  Increase  \n",
       "8              142             147             150             155  Increase  \n",
       "9               77              84              91              95  Maintain  \n",
       "10             174             171             180             181  Increase  \n",
       "11             202             200             200             204  Increase  \n",
       "12             136             138             132             135  Increase  \n",
       "13              94              84              90              95  Increase  "
      ]
     },
     "execution_count": 4,
     "metadata": {},
     "output_type": "execute_result"
    }
   ],
   "source": [
    "df = pd.DataFrame(dataset) \n",
    "df.head(14)\n"
   ]
  },
  {
   "cell_type": "code",
   "execution_count": 5,
   "metadata": {},
   "outputs": [
    {
     "data": {
      "text/html": [
       "<div>\n",
       "<style scoped>\n",
       "    .dataframe tbody tr th:only-of-type {\n",
       "        vertical-align: middle;\n",
       "    }\n",
       "\n",
       "    .dataframe tbody tr th {\n",
       "        vertical-align: top;\n",
       "    }\n",
       "\n",
       "    .dataframe thead th {\n",
       "        text-align: right;\n",
       "    }\n",
       "</style>\n",
       "<table border=\"1\" class=\"dataframe\">\n",
       "  <thead>\n",
       "    <tr style=\"text-align: right;\">\n",
       "      <th></th>\n",
       "      <th>Fasting(day#1)</th>\n",
       "      <th>Fasting(day#2)</th>\n",
       "      <th>Fasting(day#3)</th>\n",
       "      <th>Fasting(day#4)</th>\n",
       "      <th>Fasting(day#5)</th>\n",
       "    </tr>\n",
       "  </thead>\n",
       "  <tbody>\n",
       "    <tr>\n",
       "      <th>2</th>\n",
       "      <td>156</td>\n",
       "      <td>159</td>\n",
       "      <td>154</td>\n",
       "      <td>155</td>\n",
       "      <td>155</td>\n",
       "    </tr>\n",
       "  </tbody>\n",
       "</table>\n",
       "</div>"
      ],
      "text/plain": [
       "   Fasting(day#1)  Fasting(day#2)  Fasting(day#3)  Fasting(day#4)  \\\n",
       "2             156             159             154             155   \n",
       "\n",
       "   Fasting(day#5)  \n",
       "2             155  "
      ]
     },
     "execution_count": 5,
     "metadata": {},
     "output_type": "execute_result"
    },
    {
     "data": {
      "image/png": "[encoded data removed]",
      "text/plain": [
       "<Figure size 1080x432 with 1 Axes>"
      ]
     },
     "metadata": {
      "needs_background": "light"
     },
     "output_type": "display_data"
    }
   ],
   "source": [
    "X=df.loc[2:2,['Fasting(day#1)','Fasting(day#2)','Fasting(day#3)','Fasting(day#4)','Fasting(day#5)']]\n",
    "X.T.plot( figsize=(15,6),marker='o', color='olive', linewidth=2)\n",
    "plt.title('Progress of Glucose level')\n",
    "plt.xlabel('Days')\n",
    "plt.ylabel('Readings')\n",
    "plt.legend(['User_3'], loc=2, fontsize=12)\n",
    "X"
   ]
  },
  {
   "cell_type": "code",
   "execution_count": 6,
   "metadata": {},
   "outputs": [
    {
     "data": {
      "text/html": [
       "<div>\n",
       "<style scoped>\n",
       "    .dataframe tbody tr th:only-of-type {\n",
       "        vertical-align: middle;\n",
       "    }\n",
       "\n",
       "    .dataframe tbody tr th {\n",
       "        vertical-align: top;\n",
       "    }\n",
       "\n",
       "    .dataframe thead th {\n",
       "        text-align: right;\n",
       "    }\n",
       "</style>\n",
       "<table border=\"1\" class=\"dataframe\">\n",
       "  <thead>\n",
       "    <tr style=\"text-align: right;\">\n",
       "      <th></th>\n",
       "      <th>Fasting(day#1)</th>\n",
       "      <th>Fasting(day#2)</th>\n",
       "      <th>Fasting(day#3)</th>\n",
       "      <th>Fasting(day#4)</th>\n",
       "      <th>Fasting(day#5)</th>\n",
       "    </tr>\n",
       "  </thead>\n",
       "  <tbody>\n",
       "    <tr>\n",
       "      <th>12</th>\n",
       "      <td>139</td>\n",
       "      <td>136</td>\n",
       "      <td>138</td>\n",
       "      <td>132</td>\n",
       "      <td>135</td>\n",
       "    </tr>\n",
       "  </tbody>\n",
       "</table>\n",
       "</div>"
      ],
      "text/plain": [
       "    Fasting(day#1)  Fasting(day#2)  Fasting(day#3)  Fasting(day#4)  \\\n",
       "12             139             136             138             132   \n",
       "\n",
       "    Fasting(day#5)  \n",
       "12             135  "
      ]
     },
     "execution_count": 6,
     "metadata": {},
     "output_type": "execute_result"
    },
    {
     "data": {
      "image/png": "[encoded data removed]",
      "text/plain": [
       "<Figure size 1080x432 with 1 Axes>"
      ]
     },
     "metadata": {
      "needs_background": "light"
     },
     "output_type": "display_data"
    }
   ],
   "source": [
    "X=df.loc[12:12,['Fasting(day#1)','Fasting(day#2)','Fasting(day#3)','Fasting(day#4)','Fasting(day#5)']]\n",
    "X.T.plot( figsize=(15,6),marker='o', color='olive', linewidth=2)\n",
    "plt.title('Progress of Glucose level')\n",
    "plt.xlabel('Days')\n",
    "plt.ylabel('Readings')\n",
    "plt.legend(['User_13'], loc=2, fontsize=12)\n",
    "X"
   ]
  },
  {
   "cell_type": "code",
   "execution_count": 7,
   "metadata": {},
   "outputs": [
    {
     "data": {
      "text/html": [
       "<div>\n",
       "<style scoped>\n",
       "    .dataframe tbody tr th:only-of-type {\n",
       "        vertical-align: middle;\n",
       "    }\n",
       "\n",
       "    .dataframe tbody tr th {\n",
       "        vertical-align: top;\n",
       "    }\n",
       "\n",
       "    .dataframe thead th {\n",
       "        text-align: right;\n",
       "    }\n",
       "</style>\n",
       "<table border=\"1\" class=\"dataframe\">\n",
       "  <thead>\n",
       "    <tr style=\"text-align: right;\">\n",
       "      <th></th>\n",
       "      <th>Fasting(day#1)</th>\n",
       "      <th>Fasting(day#2)</th>\n",
       "      <th>Fasting(day#3)</th>\n",
       "      <th>Fasting(day#4)</th>\n",
       "      <th>Fasting(day#5)</th>\n",
       "    </tr>\n",
       "  </thead>\n",
       "  <tbody>\n",
       "    <tr>\n",
       "      <th>0</th>\n",
       "      <td>80</td>\n",
       "      <td>82</td>\n",
       "      <td>81</td>\n",
       "      <td>84</td>\n",
       "      <td>83</td>\n",
       "    </tr>\n",
       "  </tbody>\n",
       "</table>\n",
       "</div>"
      ],
      "text/plain": [
       "   Fasting(day#1)  Fasting(day#2)  Fasting(day#3)  Fasting(day#4)  \\\n",
       "0              80              82              81              84   \n",
       "\n",
       "   Fasting(day#5)  \n",
       "0              83  "
      ]
     },
     "execution_count": 7,
     "metadata": {},
     "output_type": "execute_result"
    },
    {
     "data": {
      "image/png": "[encoded data removed]",
      "text/plain": [
       "<Figure size 1080x432 with 1 Axes>"
      ]
     },
     "metadata": {
      "needs_background": "light"
     },
     "output_type": "display_data"
    }
   ],
   "source": [
    "X=df.loc[:0,['Fasting(day#1)','Fasting(day#2)','Fasting(day#3)','Fasting(day#4)','Fasting(day#5)']]\n",
    "X.T.plot( figsize=(15,6),marker='o', color='olive', linewidth=2)\n",
    "plt.title('Progress of Glucose level')\n",
    "plt.xlabel('Days')\n",
    "plt.ylabel('Readings')\n",
    "plt.legend(['User_1'], loc=2, fontsize=12)\n",
    "X"
   ]
  },
  {
   "cell_type": "code",
   "execution_count": 8,
   "metadata": {},
   "outputs": [
    {
     "data": {
      "text/plain": [
       "Outcome\n",
       "Decrease     8\n",
       "Increase    17\n",
       "Maintain     8\n",
       "dtype: int64"
      ]
     },
     "execution_count": 8,
     "metadata": {},
     "output_type": "execute_result"
    }
   ],
   "source": [
    "df.groupby('Outcome').size()"
   ]
  },
  {
   "cell_type": "code",
   "execution_count": 9,
   "metadata": {},
   "outputs": [
    {
     "data": {
      "text/plain": [
       "((33, 10), (33,))"
      ]
     },
     "execution_count": 9,
     "metadata": {},
     "output_type": "execute_result"
    }
   ],
   "source": [
    "feature_columns = ['Gender','Age','Medication','Activity_Level','Carbs','Fasting(day#1)','Fasting(day#2)','Fasting(day#3)','Fasting(day#4)','Fasting(day#5)']\n",
    "x = df[feature_columns].values\n",
    "y =df['Outcome']\n",
    "x.shape,y.shape"
   ]
  },
  {
   "cell_type": "code",
   "execution_count": null,
   "metadata": {},
   "outputs": [],
   "source": []
  },
  {
   "cell_type": "code",
   "execution_count": 10,
   "metadata": {},
   "outputs": [
    {
     "name": "stdout",
     "output_type": "stream",
     "text": [
      "Train (23, 10) (23,)\n",
      "Test (10, 10) (10,)\n"
     ]
    }
   ],
   "source": [
    "x_train, x_test, y_train, y_test = train_test_split(x, y,test_size=0.3,random_state=10)\n",
    "print('Train', x_train.shape, y_train.shape)\n",
    "print('Test', x_test.shape, y_test.shape)"
   ]
  },
  {
   "cell_type": "code",
   "execution_count": 11,
   "metadata": {},
   "outputs": [],
   "source": [
    "from sklearn.model_selection import KFold\n"
   ]
  },
  {
   "cell_type": "code",
   "execution_count": 12,
   "metadata": {},
   "outputs": [
    {
     "name": "stdout",
     "output_type": "stream",
     "text": [
      "  Name     Score\n",
      "0   DT  0.871429\n"
     ]
    }
   ],
   "source": [
    "from sklearn.model_selection import cross_val_score\n",
    "from sklearn.preprocessing import LabelEncoder\n",
    "from sklearn.model_selection import KFold\n",
    "from sklearn.tree import DecisionTreeClassifier\n",
    "models = []\n",
    "models.append(('DT', DecisionTreeClassifier()))\n",
    "names = []\n",
    "scores = []\n",
    "for name, models in models:\n",
    "    models.fit(x_train, y_train)\n",
    "    y_pred = models.predict(x_test)\n",
    "    kfold = KFold(n_splits=5, random_state=5, shuffle= True) \n",
    "    score = cross_val_score(models, x, y, cv=kfold, scoring='accuracy').mean()\n",
    "    \n",
    "    names.append(name)\n",
    "    scores.append(score)\n",
    "kf_cross_val = pd.DataFrame({'Name': names, 'Score': scores})\n",
    "print(kf_cross_val)  "
   ]
  },
  {
   "cell_type": "code",
   "execution_count": 13,
   "metadata": {},
   "outputs": [],
   "source": [
    "y_pred = models.predict(x_test)"
   ]
  },
  {
   "cell_type": "code",
   "execution_count": 14,
   "metadata": {},
   "outputs": [
    {
     "data": {
      "text/plain": [
       "array([[1, 0, 0],\n",
       "       [0, 7, 1],\n",
       "       [0, 0, 1]], dtype=int64)"
      ]
     },
     "execution_count": 14,
     "metadata": {},
     "output_type": "execute_result"
    }
   ],
   "source": [
    "from sklearn.metrics import confusion_matrix\n",
    "cm = confusion_matrix(y_test, y_pred)\n",
    "cm"
   ]
  },
  {
   "cell_type": "code",
   "execution_count": 15,
   "metadata": {},
   "outputs": [
    {
     "name": "stdout",
     "output_type": "stream",
     "text": [
      "Prediction: ['Increase']\n"
     ]
    }
   ],
   "source": [
    "x_new=np.array([[0,55,1,0,1,200,202,201,205,203]])\n",
    "models.fit(x_train, y_train)\n",
    "y_pred = models.predict(x_new)\n",
    "print(\"Prediction: {}\".format( y_pred))"
   ]
  },
  {
   "cell_type": "code",
   "execution_count": 16,
   "metadata": {},
   "outputs": [
    {
     "name": "stdout",
     "output_type": "stream",
     "text": [
      "Prediction: ['Maintain']\n"
     ]
    }
   ],
   "source": [
    "x_new=np.array([[1,63,1,1,1,156,152,154,154,153\n",
    "]])\n",
    "models.fit(x_train, y_train)\n",
    "y_pred = models.predict(x_new)\n",
    "print(\"Prediction: {}\".format( y_pred))"
   ]
  },
  {
   "cell_type": "code",
   "execution_count": 17,
   "metadata": {},
   "outputs": [
    {
     "name": "stdout",
     "output_type": "stream",
     "text": [
      "Prediction: ['Decrease']\n"
     ]
    }
   ],
   "source": [
    "x_new=np.array([[0,56,1,1,0,192,193,190,189,188\n",
    "]])\n",
    "models.fit(x_train, y_train)\n",
    "y_pred = models.predict(x_new)\n",
    "print(\"Prediction: {}\".format( y_pred))"
   ]
  },
  {
   "cell_type": "code",
   "execution_count": 18,
   "metadata": {},
   "outputs": [
    {
     "name": "stdout",
     "output_type": "stream",
     "text": [
      "Prediction: ['Increase']\n"
     ]
    }
   ],
   "source": [
    "x_new=np.array([[0,56,0,1,0,192,193,190,189,188\n",
    "]])\n",
    "models.fit(x_train, y_train)\n",
    "y_pred = models.predict(x_new)\n",
    "print(\"Prediction: {}\".format( y_pred))"
   ]
  },
  {
   "cell_type": "code",
   "execution_count": 21,
   "metadata": {},
   "outputs": [
    {
     "name": "stdout",
     "output_type": "stream",
     "text": [
      "Prediction: ['Maintain']\n"
     ]
    }
   ],
   "source": [
    "x_new=np.array([[0,40,0,1,0,92,93,90,90,90\n",
    "]])\n",
    "models.fit(x_train, y_train)\n",
    "y_pred = models.predict(x_new)\n",
    "print(\"Prediction: {}\".format( y_pred))"
   ]
  },
  {
   "cell_type": "code",
   "execution_count": 23,
   "metadata": {},
   "outputs": [
    {
     "name": "stdout",
     "output_type": "stream",
     "text": [
      "Prediction: ['Maintain']\n"
     ]
    }
   ],
   "source": [
    "x_new=np.array([[0,40,1,0,1,92,93,90,90,90\n",
    "]])\n",
    "models.fit(x_train, y_train)\n",
    "y_pred = models.predict(x_new)\n",
    "print(\"Prediction: {}\".format( y_pred))\n"
   ]
  },
  {
   "cell_type": "code",
   "execution_count": 22,
   "metadata": {},
   "outputs": [
    {
     "name": "stdout",
     "output_type": "stream",
     "text": [
      "Prediction: ['Increase']\n"
     ]
    }
   ],
   "source": [
    "x_new=np.array([[1,74,1,0,1,198,202,200,200,204\n",
    "]])\n",
    "models.fit(x_train, y_train)\n",
    "y_pred = models.predict(x_new)\n",
    "print(\"Prediction: {}\".format( y_pred))"
   ]
  },
  {
   "cell_type": "code",
   "execution_count": null,
   "metadata": {},
   "outputs": [],
   "source": []
  }
 ],
 "metadata": {
  "kernelspec": {
   "display_name": "Python 3",
   "language": "python",
   "name": "python3"
  },
  "language_info": {
   "codemirror_mode": {
    "name": "ipython",
    "version": 3
   },
   "file_extension": ".py",
   "mimetype": "text/x-python",
   "name": "python",
   "nbconvert_exporter": "python",
   "pygments_lexer": "ipython3",
   "version": "3.9.1"
  }
 },
 "nbformat": 4,
 "nbformat_minor": 4
}
